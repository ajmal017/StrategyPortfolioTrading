{
 "cells": [
  {
   "cell_type": "code",
   "execution_count": 1,
   "metadata": {},
   "outputs": [],
   "source": [
    "from ibapi import wrapper\n",
    "from ibapi import client\n",
    "from ibapi import contract\n",
    "from collections import defaultdict\n",
    "import os.path as opath\n",
    "\n",
    "class Wrapper(wrapper.EWrapper):\n",
    "    def __init__(self):\n",
    "        pass\n",
    "\n",
    "class Client(client.EClient):\n",
    "    def __init__(self, wrapper):\n",
    "        client.EClient.__init__(self, wrapper)\n",
    "\n",
    "class App(Wrapper, Client):\n",
    "    def __init__(self):\n",
    "        Wrapper.__init__(self)\n",
    "        Client.__init__(self, wrapper=self)\n",
    "        self.__historical_data = defaultdict(list)\n",
    "        self.accountsList = None\n",
    "\n",
    "    def historicalData(self, reqId, bar):\n",
    "        print(\"HistoricalData. ReqId:\", reqId, \"BarData.\", bar)\n",
    "        self.__historical_data[req_id].append(bar)\n",
    "        \n",
    "    def get_contract(self, symbol, secType='STK', currency='USD', exchange='SMART'):\n",
    "        stk_contract = contract.Contract()\n",
    "        stk_contract.symbol = symbol\n",
    "        stk_contract.secType = secType\n",
    "        stk_contract.currency = currency\n",
    "        stk_contract.exchange = exchange\n",
    "        return stk_contract\n",
    "    \n",
    "    def get_unique_id(self, filepath='counter.txt'):\n",
    "        counter = 1\n",
    "        if not opath.exists(filepath):\n",
    "            with open(filepath, 'w') as cnt_file:\n",
    "                cnt_file.write('1')\n",
    "        else:\n",
    "            with open(filepath, 'r') as cnt_file:\n",
    "                counter = int(cnt_file.read())\n",
    "            with open(filepath, 'w') as cnt_file:\n",
    "                cnt_file.write(str(counter + 1))\n",
    "        return counter\n",
    "    \n",
    "    def get_historical_data(self, symbol, years=5, bar_interval='day'):\n",
    "        req_id = self.get_unique_id()\n",
    "        sym_data = self.reqHistoricalData(req_id, self.get_contract(symbol), \"\", \"%d Y\" % years,\n",
    "                                         \"1 %s\" % bar_interval, 'TRADES', 1, 1, False, [])\n",
    "        return req_id\n",
    "    \n",
    "    def get_managed_accounts(self):\n",
    "        self.reqManagedAccts()\n",
    "        \n",
    "    def managedAccounts(self, accountsList):\n",
    "        print(\"got account list \" + accountsList)\n",
    "        self.accountsList = accountsList\n",
    "        \n",
    "    def get_positions(self):\n",
    "        self.reqPositions()\n",
    "        \n",
    "    def position(self, account: str, contract: contract.Contract, position: float,\n",
    "                 avgCost: float):\n",
    "        super().position(account, contract, position, avgCost)\n",
    "        print(\"Position.\", \"Account:\", account, \"Symbol:\", contract.symbol, \"SecType:\",\n",
    "              contract.secType, \"Currency:\", contract.currency,\n",
    "              \"Position:\", position, \"Avg cost:\", avgCost)\n",
    "    \n",
    "    def positionEnd(self):\n",
    "        super().positionEnd()\n",
    "        print(\"PositionEnd\")\n",
    "        \n",
    "    #next step... functions to place orders"
   ]
  },
  {
   "cell_type": "code",
   "execution_count": 2,
   "metadata": {},
   "outputs": [],
   "source": [
    "app = App()"
   ]
  },
  {
   "cell_type": "code",
   "execution_count": 3,
   "metadata": {
    "collapsed": true
   },
   "outputs": [],
   "source": [
    "app.connect('127.0.0.1',  7497, clientId=0)"
   ]
  },
  {
   "cell_type": "code",
   "execution_count": 4,
   "metadata": {},
   "outputs": [],
   "source": [
    "appl_req_id = app.get_positions()"
   ]
  },
  {
   "cell_type": "code",
   "execution_count": null,
   "metadata": {},
   "outputs": [
    {
     "name": "stderr",
     "output_type": "stream",
     "text": [
      "ERROR -1 2104 Market data farm connection is OK:usfarm.nj\n",
      "ERROR -1 2104 Market data farm connection is OK:cashfarm\n",
      "ERROR -1 2104 Market data farm connection is OK:usfarm\n",
      "ERROR -1 2106 HMDS data farm connection is OK:ushmds\n",
      "ERROR -1 2158 Sec-def data farm connection is OK:secdefnj\n"
     ]
    },
    {
     "name": "stdout",
     "output_type": "stream",
     "text": [
      "got account list DU1809875\n",
      "Position. Account: DUC00074 Symbol: ESGV SecType: STK Currency: USD Position: 1142.0 Avg cost: 52.7765556\n",
      "Position. Account: DUC00074 Symbol: ESGD SecType: STK Currency: USD Position: 954.0 Avg cost: 64.1715282\n",
      "Position. Account: DUC00074 Symbol: DVY SecType: STK Currency: USD Position: 292.0 Avg cost: 101.06176745\n",
      "Position. Account: DUC00074 Symbol: VO SecType: STK Currency: USD Position: 50.0 Avg cost: 170.48881\n",
      "Position. Account: DUC00074 Symbol: VDE SecType: STK Currency: USD Position: 99.0 Avg cost: 81.962902\n",
      "Position. Account: DUC00074 Symbol: TFI SecType: STK Currency: USD Position: 1109.0 Avg cost: 50.50644005\n",
      "Position. Account: DUC00074 Symbol: IBKR SecType: STK Currency: USD Position: 2800.0 Avg cost: 39.4058383\n",
      "Position. Account: DUC00074 Symbol: TIP SecType: STK Currency: USD Position: 207.0 Avg cost: 115.00465265\n",
      "Position. Account: DUC00074 Symbol: BWX SecType: STK Currency: USD Position: 712.0 Avg cost: 28.57725195\n",
      "Position. Account: DUC00074 Symbol: LQD SecType: STK Currency: USD Position: 99.0 Avg cost: 124.4389121\n",
      "Position. Account: DUC00074 Symbol: ESML SecType: STK Currency: USD Position: 309.0 Avg cost: 27.38696345\n",
      "Position. Account: DUC00074 Symbol: VNQ SecType: STK Currency: USD Position: 137.0 Avg cost: 88.7322321\n",
      "Position. Account: DUC00074 Symbol: ESGE SecType: STK Currency: USD Position: 1221.0 Avg cost: 33.994677\n",
      "Position. Account: DUC00074 Symbol: EAGG SecType: STK Currency: USD Position: 1280.0 Avg cost: 53.3022901\n",
      "PositionEnd\n"
     ]
    },
    {
     "name": "stderr",
     "output_type": "stream",
     "text": [
      "ERROR -1 2105 HMDS data farm connection is broken:ushmds\n",
      "ERROR -1 2105 HMDS data farm connection is broken:ushmds\n",
      "ERROR -1 2105 HMDS data farm connection is broken:ushmds\n",
      "ERROR -1 2105 HMDS data farm connection is broken:ushmds\n",
      "ERROR -1 2105 HMDS data farm connection is broken:ushmds\n",
      "ERROR -1 2105 HMDS data farm connection is broken:ushmds\n",
      "ERROR -1 2105 HMDS data farm connection is broken:ushmds\n",
      "ERROR -1 2105 HMDS data farm connection is broken:ushmds\n",
      "ERROR -1 2106 HMDS data farm connection is OK:ushmds\n",
      "ERROR -1 2103 Market data farm connection is broken:usfarm.nj\n",
      "ERROR -1 2104 Market data farm connection is OK:usfarm.nj\n",
      "ERROR -1 2103 Market data farm connection is broken:usfarm.nj\n",
      "ERROR -1 2104 Market data farm connection is OK:usfarm.nj\n",
      "ERROR -1 2103 Market data farm connection is broken:usfarm\n",
      "ERROR -1 2104 Market data farm connection is OK:usfarm\n"
     ]
    }
   ],
   "source": [
    "app.run()"
   ]
  },
  {
   "cell_type": "code",
   "execution_count": null,
   "metadata": {
    "collapsed": true
   },
   "outputs": [],
   "source": []
  }
 ],
 "metadata": {
  "kernelspec": {
   "display_name": "Python 3",
   "language": "python",
   "name": "python3"
  },
  "language_info": {
   "codemirror_mode": {
    "name": "ipython",
    "version": 3
   },
   "file_extension": ".py",
   "mimetype": "text/x-python",
   "name": "python",
   "nbconvert_exporter": "python",
   "pygments_lexer": "ipython3",
   "version": "3.6.1"
  }
 },
 "nbformat": 4,
 "nbformat_minor": 2
}
