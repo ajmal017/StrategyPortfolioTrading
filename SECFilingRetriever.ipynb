{
 "cells": [
  {
   "cell_type": "markdown",
   "metadata": {},
   "source": [
    "### Extract SEC Filing Archives"
   ]
  },
  {
   "cell_type": "code",
   "execution_count": null,
   "metadata": {},
   "outputs": [],
   "source": [
    "import os\n",
    "\n",
    "def create_dir(folder):\n",
    "    if not os.path.exists(folder):\n",
    "        os.makedirs(folder)"
   ]
  },
  {
   "cell_type": "code",
   "execution_count": null,
   "metadata": {},
   "outputs": [],
   "source": [
    "import zipfile\n",
    "\n",
    "def extract_archive(archive, directory):\n",
    "    with zipfile.ZipFile(archive, 'r') as zip_ref:\n",
    "        zip_ref.extractall(directory)"
   ]
  },
  {
   "cell_type": "code",
   "execution_count": null,
   "metadata": {},
   "outputs": [],
   "source": [
    "import os\n",
    "import progressbar\n",
    "\n",
    "sec_dir = 'sec_filings'\n",
    "for item in progressbar.progressbar(sorted(os.listdir(f'{sec_dir}/zips'))):\n",
    "    if item.startswith('20'):\n",
    "        quarter = item.split('.')[0]\n",
    "        quarter_directory = f'{sec_dir}/{quarter}'\n",
    "        create_dir(quarter_directory)\n",
    "        extract_archive(f'{sec_dir}/zips/{item}', quarter_directory)"
   ]
  },
  {
   "cell_type": "markdown",
   "metadata": {},
   "source": [
    "### Extract Fundamental Data"
   ]
  },
  {
   "cell_type": "code",
   "execution_count": 1,
   "metadata": {},
   "outputs": [
    {
     "name": "stderr",
     "output_type": "stream",
     "text": [
      " 23% (11 of 47) |#####                   | Elapsed Time: 0:00:39 ETA:   0:01:49/Users/brianmcclanahan/opt/anaconda3/lib/python3.7/site-packages/IPython/core/interactiveshell.py:3063: DtypeWarning: Columns (3) have mixed types.Specify dtype option on import or set low_memory=False.\n",
      "  interactivity=interactivity, compiler=compiler, result=result)\n",
      " 74% (35 of 47) |#################       | Elapsed Time: 0:02:16 ETA:   0:01:13/Users/brianmcclanahan/opt/anaconda3/lib/python3.7/site-packages/IPython/core/interactiveshell.py:3063: DtypeWarning: Columns (35) have mixed types.Specify dtype option on import or set low_memory=False.\n",
      "  interactivity=interactivity, compiler=compiler, result=result)\n",
      "100% (47 of 47) |########################| Elapsed Time: 0:03:01 Time:  0:03:01\n"
     ]
    }
   ],
   "source": [
    "import pandas as pd\n",
    "import os\n",
    "import progressbar\n",
    "\n",
    "sec_dir = 'sec_filings'\n",
    "values = ['CommonStockSharesOutstanding', 'EarningsPerShareBasic']\n",
    "quarters = [\n",
    "    quarter\n",
    "    for quarter in os.listdir(sec_dir)\n",
    "    if quarter.startswith('20')\n",
    "]\n",
    "df_list = []\n",
    "used_quarters = []\n",
    "for quarter in progressbar.progressbar(quarters):  \n",
    "    sub_df = pd.read_csv(f'{sec_dir}/{quarter}/sub.txt', delimiter='\\t')\n",
    "    if sub_df.shape[0] == 0:\n",
    "        continue\n",
    "    num_df = pd.read_csv(f'{sec_dir}/{quarter}/num.txt', delimiter='\\t')\n",
    "    # need to understand how ddate works here\n",
    "    num_df = num_df.sort_values('ddate')\n",
    "    num_df = num_df[['adsh', 'tag', 'ddate', 'value']].drop_duplicates(\n",
    "        subset=['adsh', 'tag'], keep='last'\n",
    "    )\n",
    "    sub_df.loc[:, 'symbol'] = sub_df.instance.apply(\n",
    "        lambda x: x.split('-')[0].upper()\n",
    "    )\n",
    "    sub_df = sub_df.sort_values('filed').drop_duplicates(subset=['symbol'], keep='last') #duplicate adsh values found\n",
    "    sub_df.loc[:, 'year'] = int(quarter[:4])\n",
    "    sub_df.loc[:, 'quarter'] = int(quarter[5])\n",
    "    for index, value in enumerate(values):\n",
    "        value_df = num_df.loc[num_df.tag == value][['adsh', 'value']]\n",
    "        value_df = value_df.rename(columns={\"value\": value})\n",
    "        sub_df = sub_df.merge(\n",
    "            value_df, on='adsh',\n",
    "            how=('inner' if (index + 1) == len(values) else 'left')\n",
    "        )\n",
    "    df_list.append(sub_df[values + ['symbol', 'year', 'quarter']])\n",
    "    used_quarters.append(quarter)\n",
    "fundamental_df = pd.concat(df_list, axis=0, ignore_index=True)\n",
    "fundamental_df.to_parquet('fundamentals.parquet')"
   ]
  },
  {
   "cell_type": "code",
   "execution_count": null,
   "metadata": {},
   "outputs": [],
   "source": []
  }
 ],
 "metadata": {
  "kernelspec": {
   "display_name": "Python 3",
   "language": "python",
   "name": "python3"
  },
  "language_info": {
   "codemirror_mode": {
    "name": "ipython",
    "version": 3
   },
   "file_extension": ".py",
   "mimetype": "text/x-python",
   "name": "python",
   "nbconvert_exporter": "python",
   "pygments_lexer": "ipython3",
   "version": "3.7.6"
  }
 },
 "nbformat": 4,
 "nbformat_minor": 4
}
