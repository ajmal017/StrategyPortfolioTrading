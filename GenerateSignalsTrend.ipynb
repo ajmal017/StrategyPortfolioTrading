{
 "cells": [
  {
   "cell_type": "code",
   "execution_count": 1,
   "metadata": {},
   "outputs": [],
   "source": [
    "days_lookback = 5\n",
    "pred_thresh =.65"
   ]
  },
  {
   "cell_type": "code",
   "execution_count": 2,
   "metadata": {},
   "outputs": [],
   "source": [
    "import pickle\n",
    "\n",
    "with open('ml_metadata_trend.pkl', 'rb') as ml_meta_file:\n",
    "    ml_meta = pickle.load(ml_meta_file)"
   ]
  },
  {
   "cell_type": "code",
   "execution_count": 3,
   "metadata": {},
   "outputs": [],
   "source": [
    "index_to_strat = {ml_meta['strategy_index'][x]: x for x in ml_meta['strategy_index']}"
   ]
  },
  {
   "cell_type": "code",
   "execution_count": 4,
   "metadata": {},
   "outputs": [],
   "source": [
    "import os\n",
    "import pandas as pd\n",
    "\n",
    "\n",
    "def load_profits(fill_na_dict, strategy_index, feat_col, profit_folder='profit_reports/trend'):\n",
    "    profit_files = [x for x in os.listdir(profit_folder) if x.endswith('.parquet')]\n",
    "    all_cols = feat_col + ['symbol', 'date', 'norm_profit', 'actual_enter', 'actual_exit', 'exits', 'volatility_short']\n",
    "    dfs = {x.split('_')[0]: pd.read_parquet('%s/%s' % (profit_folder, x))[all_cols] for x in profit_files}\n",
    "    for key in dfs:\n",
    "        dfs[key].loc[:, 'strategy_ind'] = strategy_index[key]\n",
    "    df = pd.concat([dfs[x].fillna(fill_na_dict) for x in dfs], axis=0, ignore_index=True)\n",
    "    return df"
   ]
  },
  {
   "cell_type": "code",
   "execution_count": 5,
   "metadata": {},
   "outputs": [],
   "source": [
    "df = load_profits(ml_meta['fill_na_dict'], ml_meta['strategy_index'], ml_meta['feat_col'])"
   ]
  },
  {
   "cell_type": "code",
   "execution_count": 6,
   "metadata": {},
   "outputs": [],
   "source": [
    "from joblib import load\n",
    "\n",
    "with open('rfc_trend.joblib', 'rb') as rfc_file:\n",
    "    rfc = load(rfc_file)"
   ]
  },
  {
   "cell_type": "code",
   "execution_count": 7,
   "metadata": {},
   "outputs": [],
   "source": [
    "import datetime as dt\n",
    "import numpy as np\n",
    "\n",
    "max_date = df['date'].max()\n",
    "min_date = max_date - dt.timedelta(days=days_lookback)\n",
    "df_date_filt = df.loc[df['date'].between(min_date, max_date) & (df.roc_short != np.inf)]"
   ]
  },
  {
   "cell_type": "code",
   "execution_count": 8,
   "metadata": {},
   "outputs": [],
   "source": [
    "preds = rfc.predict_proba(df_date_filt[ml_meta['feat_col']].fillna(0))[0][:, 1]"
   ]
  },
  {
   "cell_type": "code",
   "execution_count": 9,
   "metadata": {},
   "outputs": [
    {
     "name": "stderr",
     "output_type": "stream",
     "text": [
      "/Users/brianmcclanahan/opt/anaconda3/lib/python3.7/site-packages/pandas/core/indexing.py:844: SettingWithCopyWarning: \n",
      "A value is trying to be set on a copy of a slice from a DataFrame.\n",
      "Try using .loc[row_indexer,col_indexer] = value instead\n",
      "\n",
      "See the caveats in the documentation: https://pandas.pydata.org/pandas-docs/stable/user_guide/indexing.html#returning-a-view-versus-a-copy\n",
      "  self.obj[key] = _infer_fill_value(value)\n",
      "/Users/brianmcclanahan/opt/anaconda3/lib/python3.7/site-packages/pandas/core/indexing.py:965: SettingWithCopyWarning: \n",
      "A value is trying to be set on a copy of a slice from a DataFrame.\n",
      "Try using .loc[row_indexer,col_indexer] = value instead\n",
      "\n",
      "See the caveats in the documentation: https://pandas.pydata.org/pandas-docs/stable/user_guide/indexing.html#returning-a-view-versus-a-copy\n",
      "  self.obj[item] = s\n"
     ]
    }
   ],
   "source": [
    "df_date_filt.loc[:, 'pred'] = 0\n",
    "df_date_filt.loc[preds >= pred_thresh, 'pred'] = 1\n",
    "df_date_filt.loc[:, 'pred_score'] = preds"
   ]
  },
  {
   "cell_type": "code",
   "execution_count": 10,
   "metadata": {},
   "outputs": [],
   "source": [
    "df_date_filt.loc[:, 'strategy'] = df_date_filt.strategy_ind.map(index_to_strat)"
   ]
  },
  {
   "cell_type": "code",
   "execution_count": 11,
   "metadata": {},
   "outputs": [],
   "source": [
    "entries = df_date_filt.loc[df_date_filt.actual_enter == 1].sort_values(['date', 'pred', 'volatility'], ascending=[False, False, False])"
   ]
  },
  {
   "cell_type": "code",
   "execution_count": 12,
   "metadata": {},
   "outputs": [],
   "source": [
    "exits = df_date_filt.loc[df_date_filt.exits == 1]"
   ]
  },
  {
   "cell_type": "code",
   "execution_count": 13,
   "metadata": {},
   "outputs": [],
   "source": [
    "actual_exits = df_date_filt.loc[df_date_filt.actual_exit == 1]"
   ]
  },
  {
   "cell_type": "code",
   "execution_count": 14,
   "metadata": {},
   "outputs": [],
   "source": [
    "cols = ['date', 'symbol', 'pred', 'pred_score', 'volatility', 'volatility_short', 'macd_diff', 'bba', 'Close', 'Volume', 'strategy']"
   ]
  },
  {
   "cell_type": "code",
   "execution_count": 15,
   "metadata": {},
   "outputs": [],
   "source": [
    "entries[cols].to_csv('signals/trend/entries.csv', index=False)"
   ]
  },
  {
   "cell_type": "code",
   "execution_count": 16,
   "metadata": {},
   "outputs": [],
   "source": [
    "exits[cols].to_csv('signals/trend/exits.csv', index=False)"
   ]
  },
  {
   "cell_type": "code",
   "execution_count": 17,
   "metadata": {},
   "outputs": [],
   "source": [
    "import pandas as pd\n",
    "\n",
    "positions = pd.read_csv('signals/trend/trend_positions.csv', parse_dates=['date'])"
   ]
  },
  {
   "cell_type": "code",
   "execution_count": 18,
   "metadata": {},
   "outputs": [],
   "source": [
    "actual_exits = positions.merge(exits, on=['symbol', 'strategy'], suffixes=[\"\", \"_y\"])"
   ]
  },
  {
   "cell_type": "code",
   "execution_count": 19,
   "metadata": {},
   "outputs": [],
   "source": [
    "actual_exits = actual_exits.loc[(actual_exits.date < actual_exits.date_y)]"
   ]
  },
  {
   "cell_type": "code",
   "execution_count": 20,
   "metadata": {},
   "outputs": [],
   "source": [
    "actual_exits[cols].to_csv('signals/trend/actual_exits.csv', index=False)"
   ]
  },
  {
   "cell_type": "code",
   "execution_count": 21,
   "metadata": {},
   "outputs": [],
   "source": [
    "num_positions = 2"
   ]
  },
  {
   "cell_type": "code",
   "execution_count": 22,
   "metadata": {},
   "outputs": [],
   "source": [
    "entry_symbols = entries[['strategy', 'symbol']].drop_duplicates().iloc[:num_positions]"
   ]
  },
  {
   "cell_type": "code",
   "execution_count": 23,
   "metadata": {},
   "outputs": [],
   "source": [
    "import os\n",
    "\n",
    "def create_dir(folder):\n",
    "    if not os.path.exists(folder):\n",
    "        os.makedirs(folder)"
   ]
  },
  {
   "cell_type": "code",
   "execution_count": 39,
   "metadata": {},
   "outputs": [],
   "source": [
    "import plotly.graph_objects as go\n",
    "import plotly\n",
    "from plotly.subplots import make_subplots\n",
    "\n",
    "def make_symbol_plot(sym_df, indicator, folder):\n",
    "    indicator_dict = {\n",
    "        'macd': 'macd_diff',\n",
    "        'breakout': '200_day_high',\n",
    "        'bollinger': 'bb_wide_high'\n",
    "    }\n",
    "    indicator = indicator if indicator not in indicator_dict else indicator_dict[indicator]\n",
    "    sym_df = sym_df.sort_values('Date')\n",
    "    fig = make_subplots(rows=2, cols=1, row_heights=[0.5, 0.5], shared_xaxes=True)\n",
    "\n",
    "    fig.add_trace(\n",
    "        go.Candlestick(\n",
    "            x=sym_df.Date, open=sym_df.adj_open, high=sym_df.adj_high, low=sym_df.adj_low, close=sym_df.adj_close, name='bars'\n",
    "        ),\n",
    "        row=1, col=1\n",
    "    )\n",
    "    fig.add_trace(\n",
    "        go.Scatter(\n",
    "            x=sym_df.Date, y=sym_df[indicator], name=indicator, marker=dict(color='purple')\n",
    "        ),\n",
    "        row=2, col=1\n",
    "    )\n",
    "    fig.update_layout(xaxis_rangeslider_visible=False)\n",
    "    plotly.offline.plot(fig, filename=f'{folder}/{sym_df.symbol.iloc[0]}.html', auto_open=False)\n",
    "\n",
    "def plot_entry_symbols(entry_symbols, df, folder):\n",
    "    create_dir(folder)\n",
    "    for index in entry_symbols.index:\n",
    "        symbol = entry_symbols.loc[index, 'symbol']\n",
    "        strategy =  entry_symbols.loc[index, 'strategy']\n",
    "        make_symbol_plot(df.loc[df.symbol == symbol], strategy.lower(), folder)\n"
   ]
  },
  {
   "cell_type": "code",
   "execution_count": 40,
   "metadata": {},
   "outputs": [],
   "source": [
    "df = pd.read_parquet('ta_data.parquet')"
   ]
  },
  {
   "cell_type": "code",
   "execution_count": 41,
   "metadata": {},
   "outputs": [],
   "source": [
    "folder = 'signals/trend/plots'\n",
    "plot_entry_symbols(entry_symbols, df, folder)"
   ]
  },
  {
   "cell_type": "markdown",
   "metadata": {},
   "source": [
    "positions = pd.read_excel('positions/positions.xlsx')"
   ]
  },
  {
   "cell_type": "markdown",
   "metadata": {},
   "source": [
    "exits_positions = exits.merge(positions, right_on='position', left_on='symbol')"
   ]
  },
  {
   "cell_type": "markdown",
   "metadata": {},
   "source": [
    "exits_positions.to_excel('signals/position_exits.xlsx', index=False)"
   ]
  },
  {
   "cell_type": "code",
   "execution_count": 42,
   "metadata": {},
   "outputs": [],
   "source": [
    "import ibapp"
   ]
  },
  {
   "cell_type": "code",
   "execution_count": 43,
   "metadata": {},
   "outputs": [],
   "source": [
    "def get_positions():\n",
    "    positions_app = ibapp.PositionsApp()\n",
    "    positions_app.connect('127.0.0.1',  7497, clientId=0)\n",
    "    positions_app.get_positions()\n",
    "    positions_app.run()\n",
    "    return positions_app.positions_df.loc[positions_app.positions_df.position != 0]"
   ]
  },
  {
   "cell_type": "code",
   "execution_count": 44,
   "metadata": {},
   "outputs": [
    {
     "name": "stderr",
     "output_type": "stream",
     "text": [
      "ERROR -1 2104 Market data farm connection is OK:usfarm.nj\n",
      "ERROR -1 2104 Market data farm connection is OK:hfarm\n",
      "ERROR -1 2104 Market data farm connection is OK:eufarm\n",
      "ERROR -1 2104 Market data farm connection is OK:jfarm\n",
      "ERROR -1 2104 Market data farm connection is OK:usfuture\n",
      "ERROR -1 2104 Market data farm connection is OK:cashfarm\n",
      "ERROR -1 2104 Market data farm connection is OK:usfarm\n",
      "ERROR -1 2106 HMDS data farm connection is OK:euhmds\n",
      "ERROR -1 2106 HMDS data farm connection is OK:fundfarm\n",
      "ERROR -1 2106 HMDS data farm connection is OK:ushmds\n",
      "ERROR -1 2158 Sec-def data farm connection is OK:secdefnj\n"
     ]
    },
    {
     "name": "stdout",
     "output_type": "stream",
     "text": [
      "Position. Account: U3443642 Symbol: MUR SecType: STK Currency: USD Position: 7.0 Avg cost: 12.2109\n",
      "Position. Account: U3443642 Symbol: VCYT SecType: STK Currency: USD Position: 2.0 Avg cost: 48.0255\n",
      "Position. Account: U3443642 Symbol: FEYE SecType: STK Currency: USD Position: 5.0 Avg cost: 18.2204\n",
      "Position. Account: U3443642 Symbol: MES SecType: FUT Currency: USD Position: 0.0 Avg cost: 0.0\n",
      "Position. Account: U3443642 Symbol: TENB SecType: STK Currency: USD Position: 2.0 Avg cost: 52.85\n"
     ]
    }
   ],
   "source": [
    "positions = get_positions()"
   ]
  },
  {
   "cell_type": "code",
   "execution_count": 45,
   "metadata": {},
   "outputs": [],
   "source": [
    "exits.loc[exits.symbol.isin(positions.symbol.values)][cols].to_csv('signals/trend/position_exits.csv', index=False)"
   ]
  },
  {
   "cell_type": "code",
   "execution_count": null,
   "metadata": {},
   "outputs": [],
   "source": []
  },
  {
   "cell_type": "code",
   "execution_count": null,
   "metadata": {},
   "outputs": [],
   "source": []
  },
  {
   "cell_type": "code",
   "execution_count": null,
   "metadata": {},
   "outputs": [],
   "source": []
  }
 ],
 "metadata": {
  "kernelspec": {
   "display_name": "Python 3",
   "language": "python",
   "name": "python3"
  },
  "language_info": {
   "codemirror_mode": {
    "name": "ipython",
    "version": 3
   },
   "file_extension": ".py",
   "mimetype": "text/x-python",
   "name": "python",
   "nbconvert_exporter": "python",
   "pygments_lexer": "ipython3",
   "version": "3.7.6"
  }
 },
 "nbformat": 4,
 "nbformat_minor": 4
}
